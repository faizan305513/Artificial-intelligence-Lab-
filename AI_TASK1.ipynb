{
  "nbformat": 4,
  "nbformat_minor": 0,
  "metadata": {
    "colab": {
      "provenance": [],
      "authorship_tag": "ABX9TyN6E+v9kJtv4MsSbQmyJdch",
      "include_colab_link": true
    },
    "kernelspec": {
      "name": "python3",
      "display_name": "Python 3"
    },
    "language_info": {
      "name": "python"
    }
  },
  "cells": [
    {
      "cell_type": "markdown",
      "metadata": {
        "id": "view-in-github",
        "colab_type": "text"
      },
      "source": [
        "<a href=\"https://colab.research.google.com/github/faizan305513/Artificial-intelligence-Lab-/blob/main/AI_TASK1.ipynb\" target=\"_parent\"><img src=\"https://colab.research.google.com/assets/colab-badge.svg\" alt=\"Open In Colab\"/></a>"
      ]
    },
    {
      "cell_type": "markdown",
      "source": [
        "# **Hafiz Muhammad Faizan Abrar**\n",
        "# **37218**\n",
        "# **TASK #01**"
      ],
      "metadata": {
        "id": "bFFZ24wXP5Z7"
      }
    },
    {
      "cell_type": "markdown",
      "source": [
        "# **TASK 1**\n",
        "# Write a python program to print the multiplication table for a number and range given by user."
      ],
      "metadata": {
        "id": "bkickTrgN1kg"
      }
    },
    {
      "cell_type": "code",
      "execution_count": 1,
      "metadata": {
        "colab": {
          "base_uri": "https://localhost:8080/"
        },
        "id": "wE3oa6rIMOGU",
        "outputId": "1b5640c3-fab5-4eb8-b6ca-4605a1c56aae"
      },
      "outputs": [
        {
          "output_type": "stream",
          "name": "stdout",
          "text": [
            "Enter the number you want the table of: 15\n",
            "Enter the starting range: 6\n",
            "Enter the ending range: 15\n",
            "\n",
            "Multiplication Table of 15 from 6 to 15:\n",
            "\n",
            "15 x 6 = 90\n",
            "15 x 7 = 105\n",
            "15 x 8 = 120\n",
            "15 x 9 = 135\n",
            "15 x 10 = 150\n",
            "15 x 11 = 165\n",
            "15 x 12 = 180\n",
            "15 x 13 = 195\n",
            "15 x 14 = 210\n",
            "15 x 15 = 225\n"
          ]
        }
      ],
      "source": [
        "# Program to print multiplication table for a number in a given range\n",
        "\n",
        "# Taking input from the user\n",
        "num = int(input(\"Enter the number you want the table of: \"))\n",
        "start = int(input(\"Enter the starting range: \"))\n",
        "end = int(input(\"Enter the ending range: \"))\n",
        "\n",
        "# Printing the table\n",
        "print(f\"\\nMultiplication Table of {num} from {start} to {end}:\\n\")\n",
        "for i in range(start, end + 1):\n",
        "    result = num * i\n",
        "    print(f\"{num} x {i} = {result}\")\n"
      ]
    },
    {
      "cell_type": "markdown",
      "source": [
        "# **TASK 2**\n",
        "# Program to check whether a number is prime or not using a function"
      ],
      "metadata": {
        "id": "mDwQiZhNOTxJ"
      }
    },
    {
      "cell_type": "code",
      "source": [
        "# Defining a function to check prime number\n",
        "def check_prime(num):\n",
        "    # Prime numbers are greater than 1\n",
        "    if num <= 1:\n",
        "        return False\n",
        "    # Checking factors from 2 to num-1\n",
        "    for i in range(2, int(num**0.5) + 1):\n",
        "        if num % i == 0:\n",
        "            return False\n",
        "    return True\n",
        "\n",
        "# Taking input from the user\n",
        "number = int(input(\"Enter a positive number between 0 and 1000: \"))\n",
        "\n",
        "# Making sure the number is in range\n",
        "if 0 <= number <= 1000:\n",
        "    if check_prime(number):\n",
        "        print(\"Prime number\")\n",
        "    else:\n",
        "        print(\"Not a prime number\")\n",
        "else:\n",
        "    print(\"Please enter a number between 0 and 1000.\")\n"
      ],
      "metadata": {
        "colab": {
          "base_uri": "https://localhost:8080/"
        },
        "id": "0_0mc76FO3zB",
        "outputId": "3ecadefe-f195-488e-98c3-f70296b8aff5"
      },
      "execution_count": 2,
      "outputs": [
        {
          "output_type": "stream",
          "name": "stdout",
          "text": [
            "Enter a positive number between 0 and 1000: 78\n",
            "Not a prime number\n"
          ]
        }
      ]
    },
    {
      "cell_type": "markdown",
      "source": [
        "# **TASK 3**\n",
        "# Program to find the sum of squares from 1 to n"
      ],
      "metadata": {
        "id": "7Uu_d4s9OzFN"
      }
    },
    {
      "cell_type": "code",
      "source": [
        "# Taking input from the user\n",
        "n = int(input(\"Enter a positive number: \"))\n",
        "\n",
        "# Making sure the number is positive\n",
        "if n > 0:\n",
        "    total = 0  # variable to store the sum\n",
        "\n",
        "    # Loop from 1 to n\n",
        "    for i in range(1, n + 1):\n",
        "        total += i * i  # adding square of each number\n",
        "\n",
        "    # Showing the result\n",
        "    print(\"The sum of squares from 1 to\", n, \"is:\", total)\n",
        "else:\n",
        "    print(\"Please enter a positive number.\")"
      ],
      "metadata": {
        "colab": {
          "base_uri": "https://localhost:8080/"
        },
        "id": "m_P_1vHpPq10",
        "outputId": "a1f4a866-1d1d-47c5-bc97-e927628cf969"
      },
      "execution_count": 5,
      "outputs": [
        {
          "output_type": "stream",
          "name": "stdout",
          "text": [
            "Enter a positive number: 13\n",
            "The sum of squares from 1 to 13 is: 819\n"
          ]
        }
      ]
    }
  ]
}