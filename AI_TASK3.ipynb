{
  "nbformat": 4,
  "nbformat_minor": 0,
  "metadata": {
    "colab": {
      "provenance": [],
      "authorship_tag": "ABX9TyO8B8oQbayi8BxOEotd3N3n",
      "include_colab_link": true
    },
    "kernelspec": {
      "name": "python3",
      "display_name": "Python 3"
    },
    "language_info": {
      "name": "python"
    }
  },
  "cells": [
    {
      "cell_type": "markdown",
      "metadata": {
        "id": "view-in-github",
        "colab_type": "text"
      },
      "source": [
        "<a href=\"https://colab.research.google.com/github/faizan305513/Artificial-intelligence-Lab-/blob/main/AI_TASK3.ipynb\" target=\"_parent\"><img src=\"https://colab.research.google.com/assets/colab-badge.svg\" alt=\"Open In Colab\"/></a>"
      ]
    },
    {
      "cell_type": "markdown",
      "source": [
        "# **Hafiz Muhammad Faizan Abrar**\n",
        "# **37218**\n",
        "# **TASK #03**"
      ],
      "metadata": {
        "id": "RBTcZkINSwTd"
      }
    },
    {
      "cell_type": "markdown",
      "source": [
        "# **TASK 1**\n",
        "# 1.Perform topological sorting of a directed acyclic graph (DAG)\n",
        "# 2.Count the number of connected components in an undirected graph"
      ],
      "metadata": {
        "id": "-XkYWUgxTFzx"
      }
    },
    {
      "cell_type": "code",
      "execution_count": 3,
      "metadata": {
        "colab": {
          "base_uri": "https://localhost:8080/"
        },
        "id": "6CnMstkWRHnM",
        "outputId": "76c45bd6-0ab9-41f6-8a5b-e4059312d0c0"
      },
      "outputs": [
        {
          "output_type": "stream",
          "name": "stdout",
          "text": [
            "1: Topological Sort \n",
            "Topological Order: [0, 1, 2, 3, 4, 5]\n",
            "\n",
            "2: Connected Components\n",
            "Number of Connected Components: 2\n"
          ]
        }
      ],
      "source": [
        "from collections import defaultdict, deque\n",
        "\n",
        "# 1: Topological Sort using BFS\n",
        "\n",
        "def topological_sort(graph, vertices):\n",
        "    indegree = [0] * vertices  # to store indegree of each node\n",
        "\n",
        "    # calculating indegree\n",
        "    for node in graph:\n",
        "        for neighbor in graph[node]:\n",
        "            indegree[neighbor] += 1\n",
        "\n",
        "    queue = deque()\n",
        "    for i in range(vertices):\n",
        "        if indegree[i] == 0:\n",
        "            queue.append(i)\n",
        "\n",
        "    topo_order = []\n",
        "\n",
        "    while queue:\n",
        "        current = queue.popleft()\n",
        "        topo_order.append(current)\n",
        "\n",
        "        # decreasing indegree of connected nodes\n",
        "        for neighbor in graph[current]:\n",
        "            indegree[neighbor] -= 1\n",
        "            if indegree[neighbor] == 0:\n",
        "                queue.append(neighbor)\n",
        "\n",
        "    print(\"Topological Order:\", topo_order)\n",
        "\n",
        "\n",
        "# 2: Count Connected Components using BFS\n",
        "\n",
        "def bfs(graph, start, visited):\n",
        "    queue = deque([start])\n",
        "    visited[start] = True\n",
        "\n",
        "    while queue:\n",
        "        node = queue.popleft()\n",
        "        for neighbor in graph[node]:\n",
        "            if not visited[neighbor]:\n",
        "                visited[neighbor] = True\n",
        "                queue.append(neighbor)\n",
        "\n",
        "def count_connected_components(graph, vertices):\n",
        "    visited = [False] * vertices\n",
        "    count = 0\n",
        "\n",
        "    for v in range(vertices):\n",
        "        if not visited[v]:\n",
        "            bfs(graph, v, visited)\n",
        "            count += 1\n",
        "\n",
        "    print(\"Number of Connected Components:\", count)\n",
        "\n",
        "\n",
        "# Example Graphs\n",
        "\n",
        "# Directed graph for Task 1\n",
        "dag_graph = defaultdict(list)\n",
        "dag_graph[0] = [1, 2]\n",
        "dag_graph[1] = [3]\n",
        "dag_graph[2] = [3, 4]\n",
        "dag_graph[3] = [5]\n",
        "dag_graph[4] = [5]\n",
        "dag_graph[5] = []\n",
        "\n",
        "# Undirected graph for Task 2\n",
        "undirected_graph = defaultdict(list)\n",
        "undirected_graph[0] = [1, 2]\n",
        "undirected_graph[1] = [0, 3]\n",
        "undirected_graph[2] = [0]\n",
        "undirected_graph[3] = [1]\n",
        "undirected_graph[4] = [5]\n",
        "undirected_graph[5] = [4]\n",
        "\n",
        "# Function Calls\n",
        "\n",
        "print(\"1: Topological Sort \")\n",
        "topological_sort(dag_graph, 6)\n",
        "\n",
        "print(\"\\n2: Connected Components\")\n",
        "count_connected_components(undirected_graph, 6)"
      ]
    },
    {
      "cell_type": "markdown",
      "source": [
        "# **TASK 2**\n",
        "# Program to perform Depth First Search (DFS) on the given graph"
      ],
      "metadata": {
        "id": "iCeW91OvWamu"
      }
    },
    {
      "cell_type": "code",
      "source": [
        "# Creating the graph using a dictionary\n",
        "graph = {\n",
        "    'A': ['B', 'C'],\n",
        "    'B': [],\n",
        "    'C': ['E'],\n",
        "    'E': ['D', 'F'],\n",
        "    'D': ['B'],\n",
        "    'F': []\n",
        "}\n",
        "\n",
        "# DFS function\n",
        "def dfs(graph, start, goal, visited=None):\n",
        "    if visited is None:\n",
        "        visited = []  # list to keep track of visited nodes\n",
        "\n",
        "    visited.append(start)\n",
        "    print(start, end=\" \")\n",
        "\n",
        "    # if goal is found, stop searching\n",
        "    if start == goal:\n",
        "        print(\"\\nGoal node found:\", goal)\n",
        "        return True\n",
        "\n",
        "    # visit each neighbor of the current node\n",
        "    for neighbor in graph[start]:\n",
        "        if neighbor not in visited:\n",
        "            if dfs(graph, neighbor, goal, visited):\n",
        "                return True\n",
        "    return False\n",
        "\n",
        "\n",
        "# Starting DFS from node A to find node F\n",
        "print(\"Depth First Search Traversal:\")\n",
        "dfs(graph, 'A', 'F')"
      ],
      "metadata": {
        "colab": {
          "base_uri": "https://localhost:8080/"
        },
        "id": "yyKuOa64W8Hq",
        "outputId": "b7c14a4a-9578-43bf-df83-af005eb878e1"
      },
      "execution_count": 4,
      "outputs": [
        {
          "output_type": "stream",
          "name": "stdout",
          "text": [
            "Depth First Search Traversal:\n",
            "A B C E D F \n",
            "Goal node found: F\n"
          ]
        },
        {
          "output_type": "execute_result",
          "data": {
            "text/plain": [
              "True"
            ]
          },
          "metadata": {},
          "execution_count": 4
        }
      ]
    },
    {
      "cell_type": "markdown",
      "source": [
        "# **TASK 3**\n",
        "# **Water Jug Problem using DFS**\n",
        "# We have two jugs: one of 4 gallons and one of 3 gallons\n",
        "# **Goal**: Get exactly 2 gallons in the 4-gallon jug"
      ],
      "metadata": {
        "id": "qj8829V-XCFn"
      }
    },
    {
      "cell_type": "code",
      "source": [
        "# Function to print the steps using DFS\n",
        "def dfs(jug1, jug2, visited):\n",
        "    # If we already visited this state, skip it\n",
        "    if (jug1, jug2) in visited:\n",
        "        return False\n",
        "\n",
        "    print(f\"({jug1}, {jug2})\")  # showing current state\n",
        "    visited.add((jug1, jug2))\n",
        "\n",
        "    # Check if we reached the goal\n",
        "    if jug1 == 2:\n",
        "        print(\"Goal reached: (2, {})\".format(jug2))\n",
        "        return True\n",
        "\n",
        "    # Possible actions:\n",
        "    # 1. Fill Jug1 completely (4 gallons)\n",
        "    if dfs(4, jug2, visited):\n",
        "        return True\n",
        "\n",
        "    # 2. Fill Jug2 completely (3 gallons)\n",
        "    if dfs(jug1, 3, visited):\n",
        "        return True\n",
        "\n",
        "    # 3. Empty Jug1\n",
        "    if dfs(0, jug2, visited):\n",
        "        return True\n",
        "\n",
        "    # 4. Empty Jug2\n",
        "    if dfs(jug1, 0, visited):\n",
        "        return True\n",
        "\n",
        "    # 5. Pour Jug1 -> Jug2\n",
        "    pour = min(jug1, 3 - jug2)\n",
        "    if dfs(jug1 - pour, jug2 + pour, visited):\n",
        "        return True\n",
        "\n",
        "    # 6. Pour Jug2 -> Jug1\n",
        "    pour = min(jug2, 4 - jug1)\n",
        "    if dfs(jug1 + pour, jug2 - pour, visited):\n",
        "        return True\n",
        "\n",
        "    return False\n",
        "\n",
        "\n",
        "# Starting the search from (0, 0)\n",
        "print(\"Steps for Water Jug Problem using DFS:\\n\")\n",
        "dfs(0, 0, set())"
      ],
      "metadata": {
        "colab": {
          "base_uri": "https://localhost:8080/"
        },
        "id": "wAdpiEKYYk6N",
        "outputId": "ce3b8c31-f754-48e2-a2b8-abc875987ec9"
      },
      "execution_count": 5,
      "outputs": [
        {
          "output_type": "stream",
          "name": "stdout",
          "text": [
            "Steps for Water Jug Problem using DFS:\n",
            "\n",
            "(0, 0)\n",
            "(4, 0)\n",
            "(4, 3)\n",
            "(0, 3)\n",
            "(3, 0)\n",
            "(3, 3)\n",
            "(4, 2)\n",
            "(0, 2)\n",
            "(2, 0)\n",
            "Goal reached: (2, 0)\n"
          ]
        },
        {
          "output_type": "execute_result",
          "data": {
            "text/plain": [
              "True"
            ]
          },
          "metadata": {},
          "execution_count": 5
        }
      ]
    }
  ]
}